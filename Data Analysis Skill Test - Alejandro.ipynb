{
 "cells": [
  {
   "cell_type": "code",
   "execution_count": 349,
   "metadata": {},
   "outputs": [],
   "source": [
    "import pandas as pd \n",
    "import numpy as np \n",
    "import sys\n",
    "import pandas_datareader as pdr\n",
    "import matplotlib.pyplot as plt \n",
    "import seaborn as sns \n",
    "from statsmodels.tsa.stattools import adfuller\n",
    "from statsmodels.tsa.arima_model import ARMA\n",
    "from statsmodels.tsa.arima_model import ARIMA\n",
    "from statsmodels.graphics.tsaplots import plot_acf\n",
    "from statsmodels.graphics.tsaplots import plot_pacf\n",
    "from statsmodels.stats.diagnostic import acorr_ljungbox\n",
    "from sklearn.linear_model import LinearRegression, Ridge, Lasso, LogisticRegression \n",
    "from sklearn.preprocessing import scale\n",
    "from sklearn.metrics import mean_squared_error as mse\n",
    "import itertools\n",
    "sns.set()\n",
    "\n",
    "%matplotlib inline"
   ]
  },
  {
   "cell_type": "code",
   "execution_count": null,
   "metadata": {},
   "outputs": [],
   "source": [
    "# loading datasets\n",
    "\n",
    "tfp = pd.read_csv('TFP.csv', parse_dates = ['year'], index_col = 'year')\n",
    "comex = pd.read_csv('data_comexstatt.csv', parse_dates = ['date'], index_col = 'date')"
   ]
  },
  {
   "cell_type": "markdown",
   "metadata": {},
   "source": [
    "CASE 1"
   ]
  },
  {
   "cell_type": "code",
   "execution_count": null,
   "metadata": {},
   "outputs": [],
   "source": [
    "# Taking a quick look at the dataframe\n",
    "\n",
    "print(tfp.head())\n",
    "tfp.tail()\n",
    "tfp.info()"
   ]
  },
  {
   "cell_type": "code",
   "execution_count": null,
   "metadata": {},
   "outputs": [],
   "source": [
    "# calculating summary statistics to get to know the data\n",
    "\n",
    "summary_statistics = tfp.describe()\n",
    "\n",
    "print(summary_statistics)\n",
    "\n",
    "#this line of code gives us summary statistics for all countries in the dataset combined, which isn´t of much help"
   ]
  },
  {
   "cell_type": "code",
   "execution_count": null,
   "metadata": {},
   "outputs": [],
   "source": [
    "# in order to understand the data for each single country, we must pivot the dataframe\n",
    "\n",
    "pivoted_df = pd.pivot_table(tfp, index = 'year', columns = 'isocode')"
   ]
  },
  {
   "cell_type": "code",
   "execution_count": null,
   "metadata": {},
   "outputs": [],
   "source": [
    "pivoted_df.head(5)"
   ]
  },
  {
   "cell_type": "code",
   "execution_count": null,
   "metadata": {},
   "outputs": [],
   "source": [
    "pivoted_df.columns"
   ]
  },
  {
   "cell_type": "code",
   "execution_count": null,
   "metadata": {},
   "outputs": [],
   "source": [
    "# Slicing the dataframe in order do analyze each country specifically\n",
    "\n",
    "usa = pivoted_df.loc[:, (slice(None), 'USA')]\n",
    "mex = pivoted_df.loc[:, (slice(None), 'MEX')]\n",
    "can = pivoted_df.loc[:, (slice(None), 'CAN')]"
   ]
  },
  {
   "cell_type": "code",
   "execution_count": null,
   "metadata": {},
   "outputs": [],
   "source": [
    "# Calculating summary statistics by country\n",
    "\n",
    "summary = pivoted_df.describe()\n",
    "\n",
    "print(summary)"
   ]
  },
  {
   "cell_type": "code",
   "execution_count": null,
   "metadata": {},
   "outputs": [],
   "source": [
    "# Data visualization -- Lineplot\n",
    "\n",
    "_ = plt.plot(usa, label = 'USA')\n",
    "_ = plt.plot(mex, label = 'MEX')\n",
    "_ = plt.plot(can, label = 'CAN')\n",
    "_ = plt.xlabel('Years')\n",
    "_ = plt.ylabel('TFP')\n",
    "_ = plt.title('Total Factor Productivity in USA, Canada and, Mexico')\n",
    "_ = plt.legend()\n",
    "plt.show()\n"
   ]
  },
  {
   "cell_type": "code",
   "execution_count": null,
   "metadata": {},
   "outputs": [],
   "source": [
    "# Construction of boxplots\n",
    "\n",
    "_ = sns.boxplot(data = pivoted_df)"
   ]
  },
  {
   "cell_type": "code",
   "execution_count": null,
   "metadata": {},
   "outputs": [],
   "source": [
    "# Construction of histograms \n",
    "\n",
    "usa.hist()\n",
    "plt.title('Histogram of USA TFP')\n",
    "plt.show()"
   ]
  },
  {
   "cell_type": "code",
   "execution_count": null,
   "metadata": {},
   "outputs": [],
   "source": [
    "mex.hist()\n",
    "plt.title('Histogram os MEX TFP')\n",
    "plt.show()"
   ]
  },
  {
   "cell_type": "code",
   "execution_count": null,
   "metadata": {},
   "outputs": [],
   "source": [
    "can.hist() \n",
    "plt.title('Histogram of CAN TFP')\n",
    "plt.show()"
   ]
  },
  {
   "cell_type": "code",
   "execution_count": null,
   "metadata": {},
   "outputs": [],
   "source": [
    "# Forecasting USA TFP \n",
    "\n",
    "plot_acf(usa, lags = 60)\n",
    "plot_pacf(usa, lags = 60)\n",
    "plt.show()\n",
    "\n",
    "\n",
    "test = adfuller(usa, regression = 'ct', regresults = True)\n",
    "print('The p-value for the ADF test is', test[1])\n",
    "\n",
    "# Given that the p-value of the ADF test is 0.85, we cannot reject the null hypothesis that there is a unit root in the series\n",
    "# We must take the difference \n",
    "\n",
    "usa_diff = usa.diff()\n",
    "\n",
    "usa_diff = usa_diff.dropna()\n",
    "\n",
    "# Doing the ADF test once again \n",
    "\n",
    "test_1 = adfuller(usa_diff, regression = 'ct', regresults = True)\n",
    "print('The p-value for the ADF test is', test_1[1])\n",
    "\n",
    "plot_acf(usa_diff, lags = 60)\n",
    "plot_pacf(usa_diff, lags = 60)"
   ]
  },
  {
   "cell_type": "code",
   "execution_count": null,
   "metadata": {},
   "outputs": [],
   "source": [
    "# Grid Search for optimal paramaters in terms of best AIC score\n",
    "p = d = q = range(0,5) # p, d, and q can be either 0, 1, 2, 3, or 4\n",
    "pdq = list(itertools.product(p,d,q)) # gets all possible combinations of p, d, and q\n",
    "combs = {} # stores aic and order pairs\n",
    "aics = [] # stores aics\n",
    "# Grid Search continued\n",
    "for combination in pdq:\n",
    "    try:\n",
    "        model = ARMA(usa_diff, order=combination) # create all possible models\n",
    "        model = model.fit()\n",
    "        combs.update({model.aic : combination}) # store combinations\n",
    "        aics.append(model.aic)\n",
    "    except:\n",
    "        continue\n",
    "\n",
    "best_aic = min(aics)\n",
    "\n",
    "# Model Creation and Forecasting\n",
    "model_0 = ARMA(usa_diff, order=combs[best_aic])\n",
    "model_0 = model_0.fit()\n",
    "print(model.summary())"
   ]
  },
  {
   "cell_type": "code",
   "execution_count": null,
   "metadata": {},
   "outputs": [],
   "source": [
    "# The Grid Search tells us that the best model por USA PTF is simply the mean. \n",
    "# With this, we can conclude that the best forecast will be the mean. "
   ]
  },
  {
   "cell_type": "code",
   "execution_count": null,
   "metadata": {},
   "outputs": [],
   "source": [
    "# Forecasting MEX TFP \n",
    "\n",
    "# Forecasting USA TFP \n",
    "\n",
    "plot_acf(mex, lags = 60)\n",
    "plot_pacf(mex, lags = 60)\n",
    "plt.show()\n",
    "\n",
    "\n",
    "test = adfuller(usa, regression = 'ct', regresults = True)\n",
    "print('The p-value for the ADF test is', test[1])"
   ]
  },
  {
   "cell_type": "code",
   "execution_count": null,
   "metadata": {},
   "outputs": [],
   "source": [
    "# Given that the p-value of the ADF test is 0.85, we cannot reject the null hypothesis that there is a unit root in the series\n",
    "# We must take the difference \n",
    "\n",
    "mex_diff = mex.diff()\n",
    "\n",
    "mex_diff = mex_diff.dropna()\n",
    "\n",
    "# Doing the ADF test once again \n",
    "\n",
    "test_1 = adfuller(usa_diff, regression = 'ct', regresults = True)\n",
    "print('The p-value for the ADF test is', test_1[1])\n",
    "\n",
    "plot_acf(usa_diff, lags = 60)\n",
    "plot_pacf(usa_diff, lags = 60)"
   ]
  },
  {
   "cell_type": "code",
   "execution_count": null,
   "metadata": {},
   "outputs": [],
   "source": [
    "# Grid Search for optimal paramaters in terms of best AIC score\n",
    "p = d = q = range(0,5) # p, d, and q can be either 0, 1, 2, 3, or 4\n",
    "pdq = list(itertools.product(p,d,q)) # gets all possible combinations of p, d, and q\n",
    "combs = {} # stores aic and order pairs\n",
    "aics = [] # stores aics\n",
    "# Grid Search continued\n",
    "for combination in pdq:\n",
    "    try:\n",
    "        model = ARMA(mex_diff, order=combination) # create all possible models\n",
    "        model = model.fit()\n",
    "        combs.update({model.aic : combination}) # store combinations\n",
    "        aics.append(model.aic)\n",
    "    except:\n",
    "        continue\n",
    "\n",
    "best_aic = min(aics)\n",
    "\n",
    "# Model Creation and Forecasting\n",
    "model = ARMA(mex_diff, order=combs[best_aic])\n",
    "model = model.fit()\n",
    "print(model.summary())\n",
    "\n",
    "# ARMA(3,4)"
   ]
  },
  {
   "cell_type": "code",
   "execution_count": null,
   "metadata": {},
   "outputs": [],
   "source": [
    "# Predictions for Mexico TFP\n",
    "\n",
    "X = mex.values\n",
    "size = int(len(X) * 0.66)\n",
    "train, test = X[0:size], X[size:len(X)]\n",
    "history = [x for x in train]\n",
    "predictions = list()\n",
    "\n",
    "for t in range(len(test)):\n",
    "\tmodel = ARMA(history, order=(3,4))\n",
    "\tmodel_fit = model.fit(disp=0)\n",
    "\toutput = model_fit.forecast()\n",
    "\tyhat = output[0]\n",
    "\tpredictions.append(yhat)\n",
    "\tobs = test[t]\n",
    "\thistory.append(obs)\n",
    "\tprint('predicted=%f, expected=%f' % (yhat, obs))\n",
    "error = mse(test, predictions)\n",
    "print('Test MSE: %.3f' % error)\n",
    "# plot\n",
    "plt.plot(test)\n",
    "plt.plot(predictions, color='red')\n",
    "plt.legend()\n",
    "plt.title('MEXICO TFP FORECAST')\n",
    "plt.show()"
   ]
  },
  {
   "cell_type": "code",
   "execution_count": null,
   "metadata": {},
   "outputs": [],
   "source": [
    "# Forecasting Canada TFP\n",
    "\n",
    "plot_acf(can, lags = 60)\n",
    "plot_pacf(can, lags = 60)\n",
    "plt.show()\n",
    "\n",
    "\n",
    "test = adfuller(usa, regression = 'ct', regresults = True)\n",
    "print('The p-value for the ADF test is', test[1])\n",
    "\n",
    "can_diff = can.diff()\n",
    "\n",
    "can_diff = can_diff.dropna()\n",
    "\n",
    "# Doing the ADF test once again \n",
    "\n",
    "test_2 = adfuller(usa_diff, regression = 'ct', regresults = True)\n",
    "print('The p-value for the ADF test is', test_1[1])\n",
    "\n",
    "plot_acf(can_diff, lags = 60)\n",
    "plot_pacf(can_diff, lags = 60)"
   ]
  },
  {
   "cell_type": "code",
   "execution_count": null,
   "metadata": {},
   "outputs": [],
   "source": [
    "# Grid Search for optimal paramaters in terms of best AIC score\n",
    "p = d = q = range(0,5) # p, d, and q can be either 0, 1, 2, 3, or 4\n",
    "pdq = list(itertools.product(p,d,q)) # gets all possible combinations of p, d, and q\n",
    "combs = {} # stores aic and order pairs\n",
    "aics = [] # stores aics\n",
    "# Grid Search continued\n",
    "for combination in pdq:\n",
    "    try:\n",
    "        model_can = ARMA(can_diff, order=combination) # create all possible models in range\n",
    "        model_can = model_can.fit()\n",
    "        combs.update({model_can.aic : combination}) # store combinations\n",
    "        aics.append(model_can.aic)\n",
    "    except:\n",
    "        continue\n",
    "\n",
    "best_aic = min(aics)\n",
    "\n",
    "# Model Creation and Forecasting\n",
    "model = ARMA(can_diff, order=combs[best_aic])\n",
    "model = model.fit()\n",
    "print(model.summary())\n",
    "\n",
    "# ARMA(3,0)"
   ]
  },
  {
   "cell_type": "code",
   "execution_count": null,
   "metadata": {},
   "outputs": [],
   "source": [
    "V = can.values\n",
    "size = int(len(V) * 0.66)\n",
    "train, test = V[0:size], V[size:len(V)]\n",
    "history_can = [v for v in train]\n",
    "predictions = list()\n",
    "\n",
    "for t in range(len(test)):\n",
    "\tmodel = ARMA(history_can, order=(3,0))\n",
    "\tmodel_fit = model.fit(disp=0)\n",
    "\toutput = model_fit.forecast()\n",
    "\tyhat = output[0]\n",
    "\tpredictions.append(yhat)\n",
    "\tobs = test[t]\n",
    "\thistory.append(obs)\n",
    "\tprint('predicted=%f, expected=%f' % (yhat, obs))\n",
    "error = mse(test, predictions)\n",
    "print('Test MSE: %.3f' % error)\n",
    "# plot\n",
    "plt.plot(test)\n",
    "plt.plot(predictions, color='red')\n",
    "plt.title('CANADA TFP FORECAST')\n",
    "plt.show()"
   ]
  },
  {
   "cell_type": "code",
   "execution_count": 346,
   "metadata": {},
   "outputs": [],
   "source": [
    "# Can you think about another feature that could be helpful in explaining TFP series? Explain.\n",
    "\n",
    "# Another important feature that could be helpful in explaining TFP series is one that captures an economies institutional framework. \n",
    "\n",
    "# Recent economic thinking (but as of the times of Adam Smith aswell) postulates that well developed institutions, such as clear and fair competeition rules, contract enforcement, and a well established rule of law,\n",
    "# for example, are key economics ingredients to promote long-term economict growth via productivity gains. \n",
    "\n",
    "# Well desgined instituions tend to reduce transaction costs, facilitating the functionings of the market mechanism. \n",
    "\n",
    "# In this sense, important quantitative variables that capture a countries institutional framework can be found in the World Bank´s Doing Business survey. \n",
    "\n",
    "# Things such as easy of getting credit, electricity, paying taxes, trading across borders, enforcing contracts, etc. can be found in the survey.\n",
    "\n",
    "# All these factors are heavily influenced by the institutional framework of the country and impact long-term productivity and growth. "
   ]
  },
  {
   "cell_type": "markdown",
   "metadata": {},
   "source": [
    "CASE 2"
   ]
  },
  {
   "cell_type": "code",
   "execution_count": null,
   "metadata": {},
   "outputs": [],
   "source": [
    "comex.head()"
   ]
  },
  {
   "cell_type": "code",
   "execution_count": null,
   "metadata": {},
   "outputs": [],
   "source": [
    "comex.info()"
   ]
  },
  {
   "cell_type": "code",
   "execution_count": null,
   "metadata": {},
   "outputs": [],
   "source": [
    "comex.describe()"
   ]
  },
  {
   "cell_type": "code",
   "execution_count": null,
   "metadata": {},
   "outputs": [],
   "source": [
    "print(comex.groupby(['date', 'product'])['tons'].agg(['mean']))"
   ]
  },
  {
   "cell_type": "code",
   "execution_count": null,
   "metadata": {},
   "outputs": [],
   "source": [
    "# Show the evolution of total monthly and total annual exports from Brazil (all states and to everywhere) \n",
    "#of ‘soybeans’, ‘soybean oil’ and ‘soybean meal’;\n",
    "\n",
    "comex[(comex['product'] == 'soybeans') & (comex['type'] == 'Export')]['tons'].plot()"
   ]
  },
  {
   "cell_type": "code",
   "execution_count": null,
   "metadata": {},
   "outputs": [],
   "source": [
    "comex[(comex['product'] == 'soybean_oil') & (comex['type'] == 'Export')]['tons'].plot()"
   ]
  },
  {
   "cell_type": "code",
   "execution_count": null,
   "metadata": {},
   "outputs": [],
   "source": [
    "comex[(comex['product'] == 'soybean_oil') & (comex['type'] == 'Export')]['tons'].plot()"
   ]
  },
  {
   "cell_type": "code",
   "execution_count": null,
   "metadata": {},
   "outputs": [],
   "source": [
    "#What are the 3 most important products exported by Brazil in the last 5 years?\n",
    "\n",
    "comex.loc['2014-01-01':].groupby(['product', 'type'])[['tons', 'usd']].agg('mean')\n",
    "\n",
    "# In terms of tons, the most important products are soybeans, soybean meal, and corn"
   ]
  },
  {
   "cell_type": "code",
   "execution_count": null,
   "metadata": {},
   "outputs": [],
   "source": [
    "# What are the main routes through which Brazil have been exporting ‘corn’ in the last few years?\n",
    "# Are there differences in the relative importancem of routes depending on the product?\n",
    "\n",
    "last_few_years = comex.loc['2014-01-01':]\n",
    "\n",
    "last_few_years[(last_few_years['product'] == 'corn') & (last_few_years['type'] == 'Export')].groupby('route')['tons'].mean()\n",
    "\n",
    "# The main routes through which corn has been exported have been River and Sea"
   ]
  },
  {
   "cell_type": "code",
   "execution_count": null,
   "metadata": {},
   "outputs": [],
   "source": [
    "# Are there differences in the relative importance of routes depending on the product?\n",
    "\n",
    "last_few_years.groupby(['type', 'product', 'route'])['tons'].mean()\n",
    "\n",
    "# In terms of exports, not really. We can see that all products are mainly exported by Sea or River. Imports, however, show a relative importance\n",
    "# of routes depending on the product. For example, while corn, wheat, and sugar are mainly imported by sea or river, \n",
    "# soybean and its derivatives are mainly imported by ground. "
   ]
  },
  {
   "cell_type": "code",
   "execution_count": null,
   "metadata": {},
   "outputs": [],
   "source": [
    "# Which countries have been the most important trade partners for Brazil in terms of ‘corn’ and ‘sugar’ in the last 3 years?\n",
    "\n",
    "# I believe we can measure the importance of a trade partner based on the sum of tons imported or exported with them\n",
    "\n",
    "# By looking at the results below, we can se that in term of corn, Japan, Vietnam, Egypt, Malaysia and SK are important trading partners\n",
    "\n",
    "# By looking at further results, we can se that in terms of sugar, China, India, United Arab Emirates, Saudi Arabia and Bangladesh are important partners\n",
    "\n",
    "last_three_years = comex.loc['2016-01-01']\n",
    "\n",
    "last_three_years[(last_three_years['product'] == 'corn')].groupby(['country', 'type'])['tons'].agg('sum').sort_values()"
   ]
  },
  {
   "cell_type": "code",
   "execution_count": null,
   "metadata": {},
   "outputs": [],
   "source": [
    "last_three_years[(last_three_years['product'] == 'sugar')].groupby(['country', 'type'])['tons'].agg('sum').sort_values()"
   ]
  },
  {
   "cell_type": "code",
   "execution_count": null,
   "metadata": {},
   "outputs": [],
   "source": [
    "# For each of the products in the dataset, show the 5 most important states in terms of exports?\n",
    "\n",
    "comex[(comex['type'] == 'Export')].groupby('state')['tons'].mean().sort_values()\n",
    "\n",
    "# The five most important states em terms of average exports are RS, MT, BA, MA, and PR "
   ]
  },
  {
   "cell_type": "code",
   "execution_count": null,
   "metadata": {},
   "outputs": [],
   "source": [
    "# Manipulating the comex dataframe so that we can merge it with the covariates DF"
   ]
  },
  {
   "cell_type": "code",
   "execution_count": null,
   "metadata": {},
   "outputs": [],
   "source": [
    "comex.reset_index(inplace = True)"
   ]
  },
  {
   "cell_type": "code",
   "execution_count": null,
   "metadata": {},
   "outputs": [],
   "source": [
    "comex.dtypes"
   ]
  },
  {
   "cell_type": "code",
   "execution_count": null,
   "metadata": {},
   "outputs": [],
   "source": [
    "comex['year'] = comex['date'].str.slice(stop = 4)"
   ]
  },
  {
   "cell_type": "code",
   "execution_count": null,
   "metadata": {},
   "outputs": [],
   "source": [
    "comex.head()"
   ]
  },
  {
   "cell_type": "code",
   "execution_count": null,
   "metadata": {},
   "outputs": [],
   "source": [
    "corn_exports = comex[(comex['product'] == 'corn') & (comex['type'] == 'Export')].groupby('year')['tons'].mean()"
   ]
  },
  {
   "cell_type": "code",
   "execution_count": null,
   "metadata": {},
   "outputs": [],
   "source": [
    "soybean_meal_exports = comex[(comex['product'] == 'soybean_meal') & (comex['type'] == 'Export')].groupby('year')['tons'].mean()"
   ]
  },
  {
   "cell_type": "code",
   "execution_count": null,
   "metadata": {},
   "outputs": [],
   "source": [
    "soybean_meal_exports.head(5)"
   ]
  },
  {
   "cell_type": "code",
   "execution_count": null,
   "metadata": {},
   "outputs": [],
   "source": [
    "soybean_meal_df = pd.DataFrame(soybean_meal_exports)"
   ]
  },
  {
   "cell_type": "code",
   "execution_count": null,
   "metadata": {},
   "outputs": [],
   "source": [
    "corn_df = pd.DataFrame(corn_exports)"
   ]
  },
  {
   "cell_type": "code",
   "execution_count": null,
   "metadata": {},
   "outputs": [],
   "source": [
    "corn_df.head()"
   ]
  },
  {
   "cell_type": "code",
   "execution_count": null,
   "metadata": {},
   "outputs": [],
   "source": [
    "corn_df.reset_index(inplace = True)\n",
    "\n",
    "corn_df['year'] = corn_df['year'].apply(str)"
   ]
  },
  {
   "cell_type": "code",
   "execution_count": null,
   "metadata": {},
   "outputs": [],
   "source": [
    "soybean_meal_df.reset_index(inplace = True)\n",
    "\n",
    "soybean_meal_df['year'] = soybean_meal_df['year'].apply(str)"
   ]
  },
  {
   "cell_type": "code",
   "execution_count": null,
   "metadata": {},
   "outputs": [],
   "source": [
    "covariates = pd.read_excel('covariates.xlsx', parse_dates = ['year'], index_col = 'year')"
   ]
  },
  {
   "cell_type": "code",
   "execution_count": null,
   "metadata": {},
   "outputs": [],
   "source": [
    "covariates.reset_index(inplace = True)"
   ]
  },
  {
   "cell_type": "code",
   "execution_count": null,
   "metadata": {},
   "outputs": [],
   "source": [
    "covariates.dtypes"
   ]
  },
  {
   "cell_type": "code",
   "execution_count": null,
   "metadata": {},
   "outputs": [],
   "source": [
    "covariates['year'] = covariates['year'].apply(str)"
   ]
  },
  {
   "cell_type": "code",
   "execution_count": null,
   "metadata": {},
   "outputs": [],
   "source": [
    "covariates['year'] = covariates['year'].str.slice(stop = 4)"
   ]
  },
  {
   "cell_type": "code",
   "execution_count": null,
   "metadata": {},
   "outputs": [],
   "source": [
    "covariates.head(10)"
   ]
  },
  {
   "cell_type": "code",
   "execution_count": null,
   "metadata": {},
   "outputs": [],
   "source": [
    "features = covariates.iloc[18:41]"
   ]
  },
  {
   "cell_type": "code",
   "execution_count": null,
   "metadata": {},
   "outputs": [],
   "source": [
    "corn_cov = corn_df.merge(features, how = 'inner')"
   ]
  },
  {
   "cell_type": "code",
   "execution_count": null,
   "metadata": {},
   "outputs": [],
   "source": [
    "soybean_meal_cov = soybean_meal_df.merge(features, how = 'inner')"
   ]
  },
  {
   "cell_type": "code",
   "execution_count": null,
   "metadata": {},
   "outputs": [],
   "source": [
    "# Forecasting tons of corn\n",
    "\n",
    "# Based on the other questions, we will choose the following explanatory variables: Japan, Vietnam, Egypt\n",
    "\n",
    "Y = corn_cov['tons'].values\n",
    "X = corn_cov[['gdp_egypt', 'gdp_japan', 'gdp_vietnam', 'price_corn', 'gdp_world']].values\n",
    "\n",
    "X_train, X_test, y_train, y_test = train_test_split(X, Y, test_size = 0.50, random_state = 42)\n",
    "\n",
    "\n",
    "# Instantiating Lasso \n",
    "\n",
    "lasso = Lasso(alpha = 0.80)\n",
    "\n",
    "# Fitting data \n",
    "\n",
    "lasso.fit(X_train, y_train)\n",
    "\n",
    "# Predicting data\n",
    "\n",
    "y_pred = lasso.predict(X_test)\n",
    "\n",
    "# Getting preditions \n",
    "\n",
    "print(len(X_test))\n",
    "\n",
    "for i in range(len(X_test)): \n",
    "    print('X=%s, Predicted=%s' % (X_test[i], y_pred[i]))\n",
    "\n",
    "# Predicted values in ten years"
   ]
  },
  {
   "cell_type": "code",
   "execution_count": null,
   "metadata": {},
   "outputs": [],
   "source": [
    "# Forecasting tons of soybean meal \n",
    "\n",
    "Y = soybean_meal_cov['tons'].values\n",
    "X = soybean_meal_cov[['gdp_china', 'gdp_spain', 'gdp_iran', 'price_soybean_meal', 'gdp_world']].values\n",
    "\n",
    "X_train, X_test, y_train, y_test = train_test_split(X, Y, test_size = 0.50, random_state = 42)\n",
    "\n",
    "\n",
    "# Instantiating Lasso \n",
    "\n",
    "lasso = Lasso(alpha = 0.80)\n",
    "\n",
    "# Fitting data \n",
    "\n",
    "lasso.fit(X_train, y_train)\n",
    "\n",
    "# Predicting data\n",
    "\n",
    "y_pred = lasso.predict(X_test)\n",
    "\n",
    "# Getting preditions \n",
    "\n",
    "print(len(X_test))\n",
    "\n",
    "for i in range(len(X_test)): \n",
    "    print('X=%s, Predicted=%s' % (X_test[i], y_pred[i]))\n",
    "\n",
    "# Predicted tons of soybean_meal in 10 years \n"
   ]
  }
 ],
 "metadata": {
  "kernelspec": {
   "display_name": "Python 3",
   "language": "python",
   "name": "python3"
  },
  "language_info": {
   "codemirror_mode": {
    "name": "ipython",
    "version": 3
   },
   "file_extension": ".py",
   "mimetype": "text/x-python",
   "name": "python",
   "nbconvert_exporter": "python",
   "pygments_lexer": "ipython3",
   "version": "3.8.3"
  }
 },
 "nbformat": 4,
 "nbformat_minor": 4
}
